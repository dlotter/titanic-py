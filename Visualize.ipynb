{
 "cells": [
  {
   "cell_type": "markdown",
   "metadata": {},
   "source": [
    "# Código da Análise Gráfica"
   ]
  },
  {
   "cell_type": "code",
   "execution_count": null,
   "metadata": {},
   "outputs": [],
   "source": [
    "import matplotlib.pyplot as plt\n",
    "import pandas as pd"
   ]
  },
  {
   "cell_type": "code",
   "execution_count": null,
   "metadata": {},
   "outputs": [],
   "source": [
    "# lendo o arquivo csv\n",
    "df = pd.read_csv(\"train.csv\")\n",
    "\n",
    "# configurações iniciais do gráfico\n",
    "fig = plt.figure(figsize=(18,6))\n",
    "alpha = alpha_scatterplot = 0.2\n",
    "alpha_bar_chart = 0.55"
   ]
  },
  {
   "cell_type": "code",
   "execution_count": null,
   "metadata": {},
   "outputs": [],
   "source": [
    "# Distribuição dos Sobreviventes\n",
    "plt.subplot2grid((2,3),(0,0))\n",
    "df.Survived.value_counts(normalize=True).plot(kind='bar', alpha=alpha_bar_chart)\n",
    "plt.title(\"Distribuição dos Sobreviventes, (1 = Sobreviveu)\")"
   ]
  },
  {
   "cell_type": "code",
   "execution_count": null,
   "metadata": {},
   "outputs": [],
   "source": [
    "# Idade e Sobreviventes\n",
    "plt.subplot2grid((2,3),(0,1))\n",
    "plt.scatter(df.Survived, df.Age, alpha=alpha_scatterplot)\n",
    "plt.ylabel(\"Age\")\n",
    "plt.grid(b=True, which=\"major\", axis=\"y\")\n",
    "plt.title(\"Idade e Sobreviventes, (1 = Sobreviveu)\")"
   ]
  },
  {
   "cell_type": "code",
   "execution_count": null,
   "metadata": {},
   "outputs": [],
   "source": [
    "# Distribuição de Classes\n",
    "plt.subplot2grid((2,3),(0,2))\n",
    "df.Pclass.value_counts().plot(kind=\"barh\", alpha=alpha_bar_chart)\n",
    "plt.title(\"Classes\")"
   ]
  },
  {
   "cell_type": "code",
   "execution_count": null,
   "metadata": {},
   "outputs": [],
   "source": [
    "# Distribuição de Idades nas Classes\n",
    "plt.subplot2grid((2,3),(1,0), colspan=2)\n",
    "for x in [1,2,3]:\n",
    "    df.Age[df.Pclass == x].plot(kind=\"kde\")\n",
    "plt.xlabel(\"Age\")\n",
    "plt.title(\"Distribuição de Idades nas Classes\")\n",
    "plt.legend((\"1 Classe\", \"2 Classe\", \"3 Classe\"))"
   ]
  },
  {
   "cell_type": "code",
   "execution_count": null,
   "metadata": {},
   "outputs": [],
   "source": [
    "# Localização de embarque\n",
    "plt.subplot2grid((2,3),(1,2))\n",
    "df.Embarked.value_counts(normalize=True).plot(kind='bar', alpha=alpha_bar_chart)\n",
    "plt.title(\"Localização de embarque\")"
   ]
  },
  {
   "cell_type": "code",
   "execution_count": null,
   "metadata": {},
   "outputs": [],
   "source": [
    "female_color = \"#FA2379\"\n",
    "\n",
    "# configurações iniciais do gráfico\n",
    "fig = plt.figure(figsize=(18,6))\n",
    "alpha = alpha_scatterplot = 0.2\n",
    "alpha_bar_chart = 0.55"
   ]
  },
  {
   "cell_type": "code",
   "execution_count": null,
   "metadata": {},
   "outputs": [],
   "source": [
    "# Sobreviveram\n",
    "fig.add_subplot(3,4,1)\n",
    "df.Survived.value_counts().plot(kind='bar', alpha=alpha_bar_chart)\n",
    "plt.title(\"Sobreviveram\")"
   ]
  },
  {
   "cell_type": "code",
   "execution_count": null,
   "metadata": {},
   "outputs": [],
   "source": [
    "# Homens que sobreviveram\n",
    "fig.add_subplot(3,4,2)\n",
    "df.Survived[df.Sex == \"male\"].value_counts().plot(kind='bar', alpha=alpha_bar_chart)\n",
    "plt.title(\"Homens que sobreviveram\")"
   ]
  },
  {
   "cell_type": "code",
   "execution_count": null,
   "metadata": {},
   "outputs": [],
   "source": [
    "# Mulheres que sobreviveram\n",
    "fig.add_subplot(3,4,3)\n",
    "df.Survived[df.Sex == \"female\"].value_counts().plot(kind='bar', color=female_color, alpha=alpha_bar_chart)\n",
    "plt.title(\"Mulheres que sobreviveram\")"
   ]
  },
  {
   "cell_type": "code",
   "execution_count": null,
   "metadata": {},
   "outputs": [],
   "source": [
    "# Distribuição dos Sexos que sobreviveram\n",
    "fig.add_subplot(3,4,4)\n",
    "df[df.Survived == 1].Sex.value_counts().plot(kind='bar', color=[female_color, 'b'], alpha=alpha_bar_chart)\n",
    "plt.title(\"Distribuição dos Sexos que sobreviveram\")\n"
   ]
  },
  {
   "cell_type": "code",
   "execution_count": null,
   "metadata": {},
   "outputs": [],
   "source": [
    "# Distribuição dos sobreviventes por classes\n",
    "fig.add_subplot(3,1,2)\n",
    "for x in [1,2,3]:\n",
    "    df.Survived[df.Pclass == x].plot(kind=\"kde\")\n",
    "plt.title(\"Distribuição dos sobreviventes por classes\")\n",
    "plt.legend((\"1 Classe\", \"2 Classe\", \"3 Classe\"))"
   ]
  },
  {
   "cell_type": "code",
   "execution_count": null,
   "metadata": {},
   "outputs": [],
   "source": [
    "# Homens da Classe 3 que sobreviveram\n",
    "fig.add_subplot(3,4,9)\n",
    "df.Survived[(df.Sex == \"male\") & (df.Pclass == 3)].value_counts().plot(kind='bar', color=\"lightblue\", alpha=alpha_bar_chart)\n",
    "plt.title(\"Homens da Classe 3 que sobreviveram\")"
   ]
  },
  {
   "cell_type": "code",
   "execution_count": null,
   "metadata": {},
   "outputs": [],
   "source": [
    "# Homens da Classe 1 que sobreviveram\n",
    "fig.add_subplot(3,4,10)\n",
    "df.Survived[(df.Sex == \"male\") & (df.Pclass == 1)].value_counts().plot(kind='bar', alpha=alpha_bar_chart)\n",
    "plt.title(\"Homens da Classe 1 que sobreviveram\")"
   ]
  },
  {
   "cell_type": "code",
   "execution_count": null,
   "metadata": {},
   "outputs": [],
   "source": [
    "# Mulheres da Classe 3 que sobreviveram\n",
    "fig.add_subplot(3,4,11)\n",
    "df.Survived[(df.Sex == \"female\") & (df.Pclass == 3)].value_counts().plot(kind='bar', color=\"pink\", alpha=alpha_bar_chart)\n",
    "plt.title(\"Mulheres da Classe 3 que sobreviveram\")"
   ]
  },
  {
   "cell_type": "code",
   "execution_count": null,
   "metadata": {},
   "outputs": [],
   "source": [
    "# Mulheres da Classe 1 que sobreviveram\n",
    "fig.add_subplot(3,4,12)\n",
    "df.Survived[(df.Sex == \"female\") & (df.Pclass == 1)].value_counts().plot(kind='bar', color=female_color, alpha=alpha_bar_chart)\n",
    "plt.title(\"Mulheres da Classe 1 que sobreviveram\")"
   ]
  }
 ],
 "metadata": {
  "kernelspec": {
   "display_name": "Python 3",
   "language": "python",
   "name": "python3"
  },
  "language_info": {
   "codemirror_mode": {
    "name": "ipython",
    "version": 3
   },
   "file_extension": ".py",
   "mimetype": "text/x-python",
   "name": "python",
   "nbconvert_exporter": "python",
   "pygments_lexer": "ipython3",
   "version": "3.7.3"
  }
 },
 "nbformat": 4,
 "nbformat_minor": 2
}
